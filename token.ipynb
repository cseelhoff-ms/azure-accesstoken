{
 "cells": [
  {
   "cell_type": "code",
   "execution_count": 58,
   "metadata": {},
   "outputs": [],
   "source": [
    "import requests\n",
    "import time\n",
    "import logging\n",
    "import os\n",
    "import jwt\n",
    "import json\n",
    "import datetime\n",
    "import uuid\n",
    "\n",
    "def get_device_code():\n",
    "    bodyDeviceCode = {\n",
    "        \"client_id\": \"1950a258-227b-4e31-a9cf-717495945fc2\",\n",
    "        \"scope\": \"https://management.core.windows.net//.default offline_access profile openid\",\n",
    "        \"claims\": '{\"access_token\":{\"xms_cc\":{\"values\":[\"CP1\"]}}}'\n",
    "    }\n",
    "    deviceCodeResponse = requests.get(\"https://login.microsoftonline.com/organizations/oauth2/v2.0/devicecode\", data=bodyDeviceCode).json()\n",
    "    logging.info(deviceCodeResponse['message'])\n",
    "    secondsUntilVerificationExpires = deviceCodeResponse['expires_in']\n",
    "    secondsBetweenVerificationChecks = deviceCodeResponse['interval']\n",
    "    device_code = deviceCodeResponse['device_code']\n",
    "    return device_code, secondsBetweenVerificationChecks, secondsUntilVerificationExpires\n",
    "\n",
    "def get_device_code_graph():\n",
    "    bodyDeviceCode = {\n",
    "        \"client_id\": \"1950a258-227b-4e31-a9cf-717495945fc2\",\n",
    "        \"scope\": \"https://graph.microsoft.com//.default offline_access openid profile\",\n",
    "        \"claims\": '{\"access_token\":{\"xms_cc\":{\"values\":[\"CP1\"]}}}'\n",
    "    }\n",
    "    deviceCodeResponse = requests.get(\"https://login.microsoftonline.com/organizations/oauth2/v2.0/devicecode\", data=bodyDeviceCode).json()\n",
    "    logging.info(deviceCodeResponse['message'])\n",
    "    secondsUntilVerificationExpires = deviceCodeResponse['expires_in']\n",
    "    secondsBetweenVerificationChecks = deviceCodeResponse['interval']\n",
    "    device_code = deviceCodeResponse['device_code']\n",
    "    return device_code, secondsBetweenVerificationChecks, secondsUntilVerificationExpires\n",
    "\n",
    "def get_access_token(device_code:str, secondsBetweenVerificationChecks:int, secondsUntilVerificationExpires:int)->str:\n",
    "    bodyToken : dict[str, str]= {\n",
    "        \"client_id\": \"1950a258-227b-4e31-a9cf-717495945fc2\",\n",
    "        \"scope\": \"https://management.core.windows.net//.default offline_access openid profile\",        \n",
    "        \"claims\": '{\"access_token\":{\"xms_cc\":{\"values\":[\"CP1\"]}}}',\n",
    "        \"client_info\": \"1\",\n",
    "        \"grant_type\": \"device_code\",\n",
    "        \"device_code\": device_code\n",
    "    }\n",
    "    while secondsUntilVerificationExpires > 0:\n",
    "        time.sleep(secondsBetweenVerificationChecks)\n",
    "        secondsUntilVerificationExpires -= secondsBetweenVerificationChecks\n",
    "        token_response = requests.post(\"https://login.microsoftonline.com/organizations/oauth2/v2.0/token\", data=bodyToken).json()\n",
    "        if 'access_token' in token_response:\n",
    "            return token_response['access_token']\n",
    "        if 'error' in token_response:\n",
    "            error_name = token_response['error']\n",
    "            if error_name == \"authorization_pending\":\n",
    "                continue\n",
    "            logging.error(error_name)\n",
    "            break\n",
    "    return \"\"\n",
    "\n",
    "def get_access_token_graph(device_code:str, secondsBetweenVerificationChecks:int, secondsUntilVerificationExpires:int)->str:\n",
    "    bodyToken : dict[str, str]= {\n",
    "        \"client_id\": \"1950a258-227b-4e31-a9cf-717495945fc2\",\n",
    "        \"scope\": \"https://graph.microsoft.com//.default offline_access openid profile\",        \n",
    "        \"claims\": '{\"access_token\":{\"xms_cc\":{\"values\":[\"CP1\"]}}}',\n",
    "        \"client_info\": \"1\",\n",
    "        \"grant_type\": \"device_code\",\n",
    "        \"device_code\": device_code\n",
    "    }\n",
    "    while secondsUntilVerificationExpires > 0:\n",
    "        time.sleep(secondsBetweenVerificationChecks)\n",
    "        secondsUntilVerificationExpires -= secondsBetweenVerificationChecks\n",
    "        token_response = requests.post(\"https://login.microsoftonline.com/organizations/oauth2/v2.0/token\", data=bodyToken).json()\n",
    "        if 'access_token' in token_response:\n",
    "            return token_response['access_token']\n",
    "        if 'error' in token_response:\n",
    "            error_name = token_response['error']\n",
    "            if error_name == \"authorization_pending\":\n",
    "                continue\n",
    "            logging.error(error_name)\n",
    "            break\n",
    "    return \"\"\n",
    "\n",
    "def create_secret(app_name:str, access_token:str):\n",
    "    url = f\"https://graph.microsoft.com/v1.0/applications/{app_name}/addPassword\"\n",
    "    headers = {\n",
    "        'Authorization': f'Bearer {access_token}',\n",
    "        'Content-Type': 'application/json'\n",
    "    }\n",
    "    payload = {\n",
    "        'passwordCredential': {\n",
    "            'displayName': 'Client Secret',\n",
    "            'endDateTime': (datetime.datetime.now() + datetime.timedelta(hours=1)).isoformat(),\n",
    "            'keyId': str(uuid.uuid4())\n",
    "        }\n",
    "    }\n",
    "    response = requests.post(url, headers=headers, data=json.dumps(payload)).json()\n",
    "    return response['id']\n",
    "\n",
    "def store_secret_in_key_vault(vault_name:str, secret_id:str, access_token:str, subscription_id:str, resource_group:str):\n",
    "    url = f\"https://management.azure.com/subscriptions/{subscription_id}/resourceGroups/{resource_group}/providers/Microsoft.KeyVault/vaults/{vault_name}/secrets/{secret_id}?api-version=2019-09-01\"\n",
    "    headers = {\n",
    "        'Authorization': f'Bearer {access_token}',\n",
    "        'Content-Type': 'application/json'\n",
    "    }\n",
    "    payload = {\n",
    "        'value': secret_id,\n",
    "        'tags': {\n",
    "            'displayName': 'Client Secret'\n",
    "        }\n",
    "    }\n",
    "    requests.put(url, headers=headers, data=json.dumps(payload))\n",
    "\n",
    "def get_secret_from_key_vault(vault_name:str, secret_id:str, access_token:str, subscription_id:str, resource_group:str):\n",
    "    url = f\"https://management.azure.com/subscriptions/{subscription_id}/resourceGroups/{resource_group}/providers/Microsoft.KeyVault/vaults/{vault_name}/secrets/{secret_id}?api-version=2019-09-01\"\n",
    "    headers = {\n",
    "        'Authorization': f'Bearer {access_token}'\n",
    "    }\n",
    "    response = requests.get(url, headers=headers).json()\n",
    "    return response['value']\n"
   ]
  },
  {
   "cell_type": "code",
   "execution_count": null,
   "metadata": {},
   "outputs": [],
   "source": [
    "logging.basicConfig(level=logging.INFO)\n",
    "access_token = \"\"\n",
    "if 'AZURE_ACCESS_TOKEN' in os.environ:\n",
    "    access_token = os.environ['AZURE_ACCESS_TOKEN']\n",
    "    # decode the jwt accessToken to ensure it is not expired\n",
    "    decoded_token = jwt.decode(access_token, options={\"verify_signature\": False})\n",
    "    # Check if the token will expire in the next 10 minutes\n",
    "    if time.time() < decoded_token['exp'] - 100*60:\n",
    "        print(access_token)\n",
    "device_code, secondsBetweenVerificationChecks, secondsUntilVerificationExpires = get_device_code()\n",
    "access_token:str = get_access_token(device_code, secondsBetweenVerificationChecks, secondsUntilVerificationExpires)\n",
    "print(access_token)\n",
    "headers = {\n",
    "    \"Authorization\": f\"Bearer {access_token}\",\n",
    "    \"Content-Type\": \"application/json\"\n",
    "}"
   ]
  },
  {
   "cell_type": "code",
   "execution_count": null,
   "metadata": {},
   "outputs": [],
   "source": [
    "device_code_graph, secondsBetweenVerificationChecks, secondsUntilVerificationExpires = get_device_code_graph()\n",
    "access_token_graph:str = get_access_token_graph(device_code_graph, secondsBetweenVerificationChecks, secondsUntilVerificationExpires)\n",
    "print(access_token_graph)\n",
    "headers_graph = {\n",
    "    \"Authorization\": f\"Bearer {access_token_graph}\",\n",
    "    \"Content-Type\": \"application/json\"\n",
    "}"
   ]
  },
  {
   "cell_type": "code",
   "execution_count": 100,
   "metadata": {},
   "outputs": [
    {
     "name": "stdout",
     "output_type": "stream",
     "text": [
      "{'@odata.context': 'https://graph.microsoft.com/v1.0/$metadata#applications/$entity', 'id': '4746ae3b-8a2b-4dd3-836a-68772d6981fa', 'deletedDateTime': None, 'appId': 'ded7e350-97b8-481f-90c0-e7c9bd485964', 'applicationTemplateId': None, 'disabledByMicrosoftStatus': None, 'createdDateTime': '2024-02-22T17:51:53Z', 'displayName': 'onboard-arc-service', 'description': None, 'groupMembershipClaims': None, 'identifierUris': [], 'isDeviceOnlyAuthSupported': None, 'isFallbackPublicClient': None, 'nativeAuthenticationApisEnabled': None, 'notes': None, 'publisherDomain': 'slowjedi.com', 'serviceManagementReference': None, 'signInAudience': 'AzureADandPersonalMicrosoftAccount', 'tags': ['AzureArcSPN'], 'tokenEncryptionKeyId': None, 'uniqueName': None, 'samlMetadataUrl': None, 'defaultRedirectUri': None, 'certification': None, 'optionalClaims': None, 'servicePrincipalLockConfiguration': None, 'requestSignatureVerification': None, 'addIns': [], 'api': {'acceptMappedClaims': None, 'knownClientApplications': [], 'requestedAccessTokenVersion': 2, 'oauth2PermissionScopes': [], 'preAuthorizedApplications': []}, 'appRoles': [], 'info': {'logoUrl': None, 'marketingUrl': None, 'privacyStatementUrl': None, 'supportUrl': None, 'termsOfServiceUrl': None}, 'keyCredentials': [], 'parentalControlSettings': {'countriesBlockedForMinors': [], 'legalAgeGroupRule': 'Allow'}, 'passwordCredentials': [], 'publicClient': {'redirectUris': []}, 'requiredResourceAccess': [], 'verifiedPublisher': {'displayName': None, 'verifiedPublisherId': None, 'addedDateTime': None}, 'web': {'homePageUrl': None, 'logoutUrl': None, 'redirectUris': [], 'implicitGrantSettings': {'enableAccessTokenIssuance': False, 'enableIdTokenIssuance': False}, 'redirectUriSettings': []}, 'spa': {'redirectUris': []}}\n"
     ]
    }
   ],
   "source": [
    "# get a list of all passwords for the app\n",
    "app_id = \"4746ae3b-8a2b-4dd3-836a-68772d6981fa\" #object id\n",
    "url = f\"https://graph.microsoft.com/v1.0/applications/{app_id}\"\n",
    "response = requests.get(url, headers=headers_graph).json()\n",
    "print(response)\n",
    "passwordCredentials = response['passwordCredentials']\n"
   ]
  },
  {
   "cell_type": "code",
   "execution_count": 99,
   "metadata": {},
   "outputs": [
    {
     "name": "stdout",
     "output_type": "stream",
     "text": [
      "09a631fe-06d2-4152-94b5-bdfc69a5ef3e\n",
      "{'error': {'code': 'Request_BadRequest', 'message': \"No password credential found with keyId as '09a631fe-06d2-4152-94b5-bdfc69a5ef3e'\", 'innerError': {'date': '2024-05-30T03:52:16', 'request-id': 'c8b58dc3-574a-45d0-b822-7dd56c8efbc2', 'client-request-id': 'c8b58dc3-574a-45d0-b822-7dd56c8efbc2'}}}\n"
     ]
    }
   ],
   "source": [
    "\n",
    "# loop through all the password keyIds and delete them\n",
    "for password in passwordCredentials:\n",
    "    key_id = password['keyId']\n",
    "    print(key_id)\n",
    "    url = f\"https://graph.microsoft.com/v1.0/applications/{app_id}/removePassword\"\n",
    "    payload = {'keyId': key_id}\n",
    "    response = requests.post(url, headers=headers_graph, data=json.dumps(payload)).json()\n",
    "    print(response)\n",
    "\n"
   ]
  },
  {
   "cell_type": "code",
   "execution_count": 101,
   "metadata": {},
   "outputs": [],
   "source": [
    "payload = {\n",
    "    'passwordCredential': {\n",
    "        'displayName': 'Client Secret',\n",
    "        'endDateTime': (datetime.datetime.now() + datetime.timedelta(hours=1)).isoformat()\n",
    "    }\n",
    "}\n",
    "password_response = requests.post(f\"https://graph.microsoft.com/v1.0/applications/{app_id}/addPassword\", headers=headers_graph, data=json.dumps(payload)).json()"
   ]
  },
  {
   "cell_type": "code",
   "execution_count": 102,
   "metadata": {},
   "outputs": [
    {
     "data": {
      "text/plain": [
       "''"
      ]
     },
     "execution_count": 102,
     "metadata": {},
     "output_type": "execute_result"
    }
   ],
   "source": [
    "secret_text = password_response['secretText']\n",
    "secret_text"
   ]
  },
  {
   "cell_type": "code",
   "execution_count": 95,
   "metadata": {},
   "outputs": [],
   "source": [
    "subscription_id = \"d8b98a16-2943-4e64-91b9-01a182064f05\" #input('Enter the subscription ID: ')\n",
    "resourceGroupName = \"default-RG\" #input('Enter the resource group name: ')\n"
   ]
  },
  {
   "cell_type": "code",
   "execution_count": 96,
   "metadata": {},
   "outputs": [],
   "source": [
    "machines_list_response = requests.get(\"https://api.securitycenter.windows.com/api/machines\", headers=headers)"
   ]
  },
  {
   "cell_type": "code",
   "execution_count": 40,
   "metadata": {},
   "outputs": [
    {
     "name": "stdout",
     "output_type": "stream",
     "text": [
      "Computer DNS Name:  desktop-ih5bd0h\n"
     ]
    }
   ],
   "source": [
    "#import json\n",
    "#print(json.dumps(response.json(), indent=4, sort_keys=True))\n",
    "machines = machines_list_response.json()[\"value\"]\n",
    "test_vm_id = '70ee6084237c5f0d9c7cbd636d05ea5bbb610954'\n",
    "# \"powershell.exe -File .\\onboard_arc.ps1 -ServicePrincipalClientSecret \\\"your_secret_here\\\"\"\n",
    "cmdLine = 'powershell.exe -File .\\\\onboard_arc.ps1 -ServicePrincipalClientSecret \"' + secret_text + '\"'\n",
    "body = {\n",
    "    \"Commands\":[\n",
    "        {\n",
    "            \"type\":\"GetFile\",\n",
    "            \"params\":[\n",
    "                {\n",
    "                \"key\":\"Path\",\n",
    "                \"value\":cmdLine\n",
    "                }\n",
    "            ]\n",
    "        },\n",
    "    ],\n",
    "    \"Comment\":\"Testing Live Response API\"\n",
    "}\n",
    "\n",
    "for machine in machines:    \n",
    "    machine_id = machine[\"id\"]\n",
    "    if machine_id == \"70ee6084237c5f0d9c7cbd636d05ea5bbb610954\":\n",
    "        computerDnsName = machine[\"computerDnsName\"]\n",
    "        print(\"Computer DNS Name: \", computerDnsName)\n",
    "        arc_resource_url = f\"https://management.azure.com/subscriptions/{subscription_id}/resourceGroups/{resourceGroupName}/providers/Microsoft.HybridCompute/machines/{computerDnsName}?api-version=2019-12-12\"\n",
    "        arc_resource_response = requests.get(arc_resource_url, headers=headers)\n",
    "        status_code_if = arc_resource_response.status_code\n",
    "        if status_code_if == 200:\n",
    "            arc_resource_data = arc_resource_response.json()\n",
    "            print(arc_resource_data)\n",
    "            break\n",
    "        #connection_status = arc_resource_data['properties']['status']\n",
    "        #print(\"Connection status: \", connection_status)\n",
    "        #run_live_response = requests.post(f\"https://api.securitycenter.microsoft.com/API/machines/{machine_id}/runliveresponse\", headers=headers, json=body)\n",
    "        #live_response_id = run_live_response.json()[\"id\"]\n"
   ]
  },
  {
   "cell_type": "code",
   "execution_count": 25,
   "metadata": {},
   "outputs": [
    {
     "name": "stdout",
     "output_type": "stream",
     "text": [
      "736a997d-64de-46a7-a745-3c0d6c98a19f\n",
      "<Response [200]>\n"
     ]
    }
   ],
   "source": [
    "print(live_response_id)\n",
    "\n",
    "#get the live response status\n",
    "url = f\"https://api.securitycenter.microsoft.com/api/machineactions/{live_response_id}\"\n",
    "response = requests.get(url, headers=headers)\n",
    "print(response)\n",
    "#status = response.json()[\"status\"]"
   ]
  },
  {
   "cell_type": "code",
   "execution_count": 27,
   "metadata": {},
   "outputs": [
    {
     "name": "stdout",
     "output_type": "stream",
     "text": [
      "736a997d-64de-46a7-a745-3c0d6c98a19f\n",
      "<Response [200]>\n"
     ]
    }
   ],
   "source": [
    "import time\n",
    "\n",
    "#get the live response status\n",
    "url = f\"https://api.securitycenter.microsoft.com/api/machineactions/{live_response_id}\"\n",
    "\n",
    "while True:\n",
    "    action_result_response = requests.get(url, headers=headers)\n",
    "    if action_result_response.status_code in [200, 401]:\n",
    "        print(action_result_response)\n",
    "        break\n",
    "    else:\n",
    "        time.sleep(5)  # wait for 5 seconds before the next request"
   ]
  },
  {
   "cell_type": "code",
   "execution_count": 29,
   "metadata": {},
   "outputs": [
    {
     "name": "stdout",
     "output_type": "stream",
     "text": [
      "desktop-ih5bd0h Succeeded\n"
     ]
    },
    {
     "data": {
      "text/plain": [
       "{'@odata.context': 'https://api.securitycenter.microsoft.com/api/$metadata#MachineActions/$entity',\n",
       " 'id': '736a997d-64de-46a7-a745-3c0d6c98a19f',\n",
       " 'type': 'LiveResponse',\n",
       " 'title': None,\n",
       " 'requestor': 'yoda@slowjedi.com',\n",
       " 'requestorComment': 'Testing Live Response API',\n",
       " 'status': 'Succeeded',\n",
       " 'machineId': '70ee6084237c5f0d9c7cbd636d05ea5bbb610954',\n",
       " 'computerDnsName': 'desktop-ih5bd0h',\n",
       " 'creationDateTimeUtc': '2024-05-29T22:00:33.5093044Z',\n",
       " 'lastUpdateDateTimeUtc': '2024-05-29T22:02:21.96704Z',\n",
       " 'cancellationRequestor': None,\n",
       " 'cancellationComment': None,\n",
       " 'cancellationDateTimeUtc': None,\n",
       " 'errorHResult': 0,\n",
       " 'scope': None,\n",
       " 'externalId': None,\n",
       " 'requestSource': 'Portal',\n",
       " 'relatedFileInfo': None,\n",
       " 'commands': [{'index': 0,\n",
       "   'startTime': '2024-05-29T22:00:41.171256Z',\n",
       "   'endTime': '2024-05-29T22:02:21.966403Z',\n",
       "   'commandStatus': 'Completed',\n",
       "   'errors': [],\n",
       "   'command': {'type': 'GetFile',\n",
       "    'params': [{'key': 'Path', 'value': 'C:\\\\Windows\\\\notepad.exe'}]}}],\n",
       " 'troubleshootInfo': None}"
      ]
     },
     "execution_count": 29,
     "metadata": {},
     "output_type": "execute_result"
    }
   ],
   "source": [
    "action_result = action_result_response.json()\n",
    "print(action_result['computerDnsName'] + \" \" + action_result['status'])\n",
    "#action_result"
   ]
  }
 ],
 "metadata": {
  "kernelspec": {
   "display_name": "Python 3",
   "language": "python",
   "name": "python3"
  },
  "language_info": {
   "codemirror_mode": {
    "name": "ipython",
    "version": 3
   },
   "file_extension": ".py",
   "mimetype": "text/x-python",
   "name": "python",
   "nbconvert_exporter": "python",
   "pygments_lexer": "ipython3",
   "version": "3.12.2"
  }
 },
 "nbformat": 4,
 "nbformat_minor": 4
}
